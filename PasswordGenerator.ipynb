{
  "nbformat": 4,
  "nbformat_minor": 0,
  "metadata": {
    "colab": {
      "name": "PasswordGenerator.ipynb",
      "provenance": [],
      "authorship_tag": "ABX9TyPvydQRkSFhBZ/UjzGyDCcO"
    },
    "kernelspec": {
      "name": "python3",
      "display_name": "Python 3"
    },
    "language_info": {
      "name": "python"
    }
  },
  "cells": [
    {
      "cell_type": "markdown",
      "metadata": {
        "id": "JPIHVP15Qp_7"
      },
      "source": [
        "# **Password Generator**"
      ]
    },
    {
      "cell_type": "code",
      "metadata": {
        "colab": {
          "base_uri": "https://localhost:8080/"
        },
        "id": "NA0xtRx_OahY",
        "outputId": "e5a2b735-758d-4396-b544-b2e3666613b4"
      },
      "source": [
        "from random import *\n",
        "import string\n",
        "from collections import Counter\n",
        "\n",
        "print(\"Enter the length of the password desired:\")\n",
        "pass_len=int(input())\n",
        "\n",
        "lower = string.ascii_lowercase\n",
        "upper = string.ascii_uppercase\n",
        "digits = string.digits\n",
        "symbols = string.punctuation\n",
        "\n",
        "symbols_list = list(symbols)\n",
        "na_symbols = '!\"\\'()+,-./:;<=>?[\\]^_`{|}~'\n",
        "na_symbols_list = list(na_symbols)\n",
        "\n",
        "allowed_symbols_list = list((Counter(symbols_list)-Counter(na_symbols_list)).elements())\n",
        "allowed_symbols = \"\"\n",
        "for i in allowed_symbols_list:\n",
        "  allowed_symbols = allowed_symbols+i\n",
        "\n",
        "all = lower + upper + digits + allowed_symbols\n",
        "#password = \"\".join(choice(all) for x in range(randint(8, 16)))\n",
        "password = \"\".join(choice(all) for x in range(pass_len))\n",
        "\n",
        "print(password)"
      ],
      "execution_count": 1,
      "outputs": [
        {
          "output_type": "stream",
          "text": [
            "Enter the length of the password desired:\n",
            "8\n",
            "aiI%c#&2\n"
          ],
          "name": "stdout"
        }
      ]
    },
    {
      "cell_type": "markdown",
      "metadata": {
        "id": "NkaoWDR6bkm0"
      },
      "source": [
        "## Line by Line Code"
      ]
    },
    {
      "cell_type": "code",
      "metadata": {
        "id": "JhG0FD4-6243"
      },
      "source": [
        "from random import *\n",
        "import string\n",
        "from collections import Counter"
      ],
      "execution_count": 2,
      "outputs": []
    },
    {
      "cell_type": "code",
      "metadata": {
        "id": "IEExvdQP7Iuy"
      },
      "source": [
        "lower = string.ascii_lowercase\n",
        "upper = string.ascii_uppercase\n",
        "digits = string.digits\n",
        "symbols = string.punctuation"
      ],
      "execution_count": 3,
      "outputs": []
    },
    {
      "cell_type": "code",
      "metadata": {
        "colab": {
          "base_uri": "https://localhost:8080/",
          "height": 35
        },
        "id": "iNuvSE1R7wDu",
        "outputId": "666404fb-c62e-4bc5-e54b-f8bac5b661f6"
      },
      "source": [
        "symbols"
      ],
      "execution_count": 4,
      "outputs": [
        {
          "output_type": "execute_result",
          "data": {
            "application/vnd.google.colaboratory.intrinsic+json": {
              "type": "string"
            },
            "text/plain": [
              "'!\"#$%&\\'()*+,-./:;<=>?@[\\\\]^_`{|}~'"
            ]
          },
          "metadata": {
            "tags": []
          },
          "execution_count": 4
        }
      ]
    },
    {
      "cell_type": "code",
      "metadata": {
        "id": "8HDoWO1s-VW_"
      },
      "source": [
        "symbols_list = list(symbols)"
      ],
      "execution_count": 5,
      "outputs": []
    },
    {
      "cell_type": "code",
      "metadata": {
        "colab": {
          "base_uri": "https://localhost:8080/"
        },
        "id": "8YqortSk-c5f",
        "outputId": "32fbcca3-5415-4def-f2bf-6ce6619b0f7f"
      },
      "source": [
        "symbols_list"
      ],
      "execution_count": 6,
      "outputs": [
        {
          "output_type": "execute_result",
          "data": {
            "text/plain": [
              "['!',\n",
              " '\"',\n",
              " '#',\n",
              " '$',\n",
              " '%',\n",
              " '&',\n",
              " \"'\",\n",
              " '(',\n",
              " ')',\n",
              " '*',\n",
              " '+',\n",
              " ',',\n",
              " '-',\n",
              " '.',\n",
              " '/',\n",
              " ':',\n",
              " ';',\n",
              " '<',\n",
              " '=',\n",
              " '>',\n",
              " '?',\n",
              " '@',\n",
              " '[',\n",
              " '\\\\',\n",
              " ']',\n",
              " '^',\n",
              " '_',\n",
              " '`',\n",
              " '{',\n",
              " '|',\n",
              " '}',\n",
              " '~']"
            ]
          },
          "metadata": {
            "tags": []
          },
          "execution_count": 6
        }
      ]
    },
    {
      "cell_type": "code",
      "metadata": {
        "id": "9FjTeJAM8DGC"
      },
      "source": [
        "na_symbols = '!\"\\'()+,-./:;<=>?[\\]^_`{|}~'"
      ],
      "execution_count": 7,
      "outputs": []
    },
    {
      "cell_type": "code",
      "metadata": {
        "id": "EPVF-R3JLImJ"
      },
      "source": [
        "na_symbols_list = list(na_symbols)"
      ],
      "execution_count": 8,
      "outputs": []
    },
    {
      "cell_type": "code",
      "metadata": {
        "colab": {
          "base_uri": "https://localhost:8080/"
        },
        "id": "XDYAbPMk9Rsq",
        "outputId": "938baa4c-0bc0-4992-c02a-dd6b86e098a9"
      },
      "source": [
        "na_symbols_list"
      ],
      "execution_count": 9,
      "outputs": [
        {
          "output_type": "execute_result",
          "data": {
            "text/plain": [
              "['!',\n",
              " '\"',\n",
              " \"'\",\n",
              " '(',\n",
              " ')',\n",
              " '+',\n",
              " ',',\n",
              " '-',\n",
              " '.',\n",
              " '/',\n",
              " ':',\n",
              " ';',\n",
              " '<',\n",
              " '=',\n",
              " '>',\n",
              " '?',\n",
              " '[',\n",
              " '\\\\',\n",
              " ']',\n",
              " '^',\n",
              " '_',\n",
              " '`',\n",
              " '{',\n",
              " '|',\n",
              " '}',\n",
              " '~']"
            ]
          },
          "metadata": {
            "tags": []
          },
          "execution_count": 9
        }
      ]
    },
    {
      "cell_type": "code",
      "metadata": {
        "colab": {
          "base_uri": "https://localhost:8080/"
        },
        "id": "mNm_jzpIAz02",
        "outputId": "2da6398e-6b2f-4dc0-e564-028f99be62e2"
      },
      "source": [
        "allowed_symbols_list = list((Counter(symbols_list)-Counter(na_symbols_list)).elements())\n",
        "print(allowed_symbols_list)"
      ],
      "execution_count": 10,
      "outputs": [
        {
          "output_type": "stream",
          "text": [
            "['#', '$', '%', '&', '*', '@']\n"
          ],
          "name": "stdout"
        }
      ]
    },
    {
      "cell_type": "code",
      "metadata": {
        "colab": {
          "base_uri": "https://localhost:8080/"
        },
        "id": "uXP6pGC0M8bg",
        "outputId": "12c2470e-4355-4d77-e42f-d21869654a7e"
      },
      "source": [
        "allowed_symbols = \"\"\n",
        "for i in allowed_symbols_list:\n",
        "  allowed_symbols = allowed_symbols+i\n",
        "\n",
        "print(allowed_symbols)"
      ],
      "execution_count": 11,
      "outputs": [
        {
          "output_type": "stream",
          "text": [
            "#$%&*@\n"
          ],
          "name": "stdout"
        }
      ]
    },
    {
      "cell_type": "code",
      "metadata": {
        "id": "1Pq5M32X7boM"
      },
      "source": [
        "all = lower + upper + digits + allowed_symbols"
      ],
      "execution_count": 12,
      "outputs": []
    },
    {
      "cell_type": "code",
      "metadata": {
        "colab": {
          "base_uri": "https://localhost:8080/"
        },
        "id": "z5r2Tq4_7hYa",
        "outputId": "d2d860d1-22d3-47d3-a860-d7a5434a719e"
      },
      "source": [
        "password = \"\".join(choice(all) for x in range(randint(8, 16)))\n",
        "print(password)"
      ],
      "execution_count": 13,
      "outputs": [
        {
          "output_type": "stream",
          "text": [
            "apbNx@4l4&VYL\n"
          ],
          "name": "stdout"
        }
      ]
    }
  ]
}