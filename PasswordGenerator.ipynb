{
  "nbformat": 4,
  "nbformat_minor": 0,
  "metadata": {
    "colab": {
      "name": "PasswordGenerator.ipynb",
      "provenance": [],
      "authorship_tag": "ABX9TyM4e/aPwujLsNkA/2i/S0QZ"
    },
    "kernelspec": {
      "name": "python3",
      "display_name": "Python 3"
    },
    "language_info": {
      "name": "python"
    }
  },
  "cells": [
    {
      "cell_type": "markdown",
      "metadata": {
        "id": "JPIHVP15Qp_7"
      },
      "source": [
        "# **Password Generator**"
      ]
    },
    {
      "cell_type": "code",
      "metadata": {
        "colab": {
          "base_uri": "https://localhost:8080/"
        },
        "id": "NA0xtRx_OahY",
        "outputId": "cdd276d2-c0e6-46d1-dd8c-2693f0db252f"
      },
      "source": [
        "from random import *\n",
        "import string\n",
        "from collections import Counter\n",
        "\n",
        "lower = string.ascii_lowercase\n",
        "upper = string.ascii_uppercase\n",
        "digits = string.digits\n",
        "symbols = string.punctuation\n",
        "\n",
        "symbols_list = list(symbols)\n",
        "na_symbols = '!\"\\'()+,-./:;<=>?[\\]^_`{|}~'\n",
        "na_symbols_list = list(na_symbols)\n",
        "\n",
        "allowed_symbols_list = list((Counter(symbols_list)-Counter(na_symbols_list)).elements())\n",
        "allowed_symbols = \"\"\n",
        "for i in allowed_symbols_list:\n",
        "  allowed_symbols = allowed_symbols+i\n",
        "\n",
        "all = lower + upper + digits + allowed_symbols\n",
        "password = \"\".join(choice(all) for x in range(randint(8, 16)))\n",
        "\n",
        "print(password)"
      ],
      "execution_count": null,
      "outputs": [
        {
          "output_type": "stream",
          "text": [
            "&QWz%I34OWc*H\n"
          ],
          "name": "stdout"
        }
      ]
    },
    {
      "cell_type": "markdown",
      "metadata": {
        "id": "NkaoWDR6bkm0"
      },
      "source": [
        "## Line by Line Code"
      ]
    },
    {
      "cell_type": "code",
      "metadata": {
        "id": "JhG0FD4-6243"
      },
      "source": [
        "from random import *\n",
        "import string\n",
        "from collections import Counter"
      ],
      "execution_count": null,
      "outputs": []
    },
    {
      "cell_type": "code",
      "metadata": {
        "id": "IEExvdQP7Iuy"
      },
      "source": [
        "lower = string.ascii_lowercase\n",
        "upper = string.ascii_uppercase\n",
        "digits = string.digits\n",
        "symbols = string.punctuation"
      ],
      "execution_count": null,
      "outputs": []
    },
    {
      "cell_type": "code",
      "metadata": {
        "colab": {
          "base_uri": "https://localhost:8080/",
          "height": 35
        },
        "id": "iNuvSE1R7wDu",
        "outputId": "7cfe12c7-bf4f-40a8-d2b4-85cd08860743"
      },
      "source": [
        "symbols"
      ],
      "execution_count": null,
      "outputs": [
        {
          "output_type": "execute_result",
          "data": {
            "application/vnd.google.colaboratory.intrinsic+json": {
              "type": "string"
            },
            "text/plain": [
              "'!\"#$%&\\'()*+,-./:;<=>?@[\\\\]^_`{|}~'"
            ]
          },
          "metadata": {
            "tags": []
          },
          "execution_count": 4
        }
      ]
    },
    {
      "cell_type": "code",
      "metadata": {
        "id": "8HDoWO1s-VW_"
      },
      "source": [
        "symbols_list = list(symbols)"
      ],
      "execution_count": null,
      "outputs": []
    },
    {
      "cell_type": "code",
      "metadata": {
        "colab": {
          "base_uri": "https://localhost:8080/"
        },
        "id": "8YqortSk-c5f",
        "outputId": "89c47568-c40b-47e6-ac4c-b3ffcae595e6"
      },
      "source": [
        "symbols_list"
      ],
      "execution_count": null,
      "outputs": [
        {
          "output_type": "execute_result",
          "data": {
            "text/plain": [
              "['!',\n",
              " '\"',\n",
              " '#',\n",
              " '$',\n",
              " '%',\n",
              " '&',\n",
              " \"'\",\n",
              " '(',\n",
              " ')',\n",
              " '*',\n",
              " '+',\n",
              " ',',\n",
              " '-',\n",
              " '.',\n",
              " '/',\n",
              " ':',\n",
              " ';',\n",
              " '<',\n",
              " '=',\n",
              " '>',\n",
              " '?',\n",
              " '@',\n",
              " '[',\n",
              " '\\\\',\n",
              " ']',\n",
              " '^',\n",
              " '_',\n",
              " '`',\n",
              " '{',\n",
              " '|',\n",
              " '}',\n",
              " '~']"
            ]
          },
          "metadata": {
            "tags": []
          },
          "execution_count": 6
        }
      ]
    },
    {
      "cell_type": "code",
      "metadata": {
        "id": "9FjTeJAM8DGC"
      },
      "source": [
        "na_symbols = '!\"\\'()+,-./:;<=>?[\\]^_`{|}~'"
      ],
      "execution_count": null,
      "outputs": []
    },
    {
      "cell_type": "code",
      "metadata": {
        "id": "EPVF-R3JLImJ"
      },
      "source": [
        "na_symbols_list = list(na_symbols)"
      ],
      "execution_count": null,
      "outputs": []
    },
    {
      "cell_type": "code",
      "metadata": {
        "colab": {
          "base_uri": "https://localhost:8080/"
        },
        "id": "XDYAbPMk9Rsq",
        "outputId": "e3762ded-39d7-4b80-a973-4bf108154ca4"
      },
      "source": [
        "na_symbols_list"
      ],
      "execution_count": null,
      "outputs": [
        {
          "output_type": "execute_result",
          "data": {
            "text/plain": [
              "['!',\n",
              " '\"',\n",
              " \"'\",\n",
              " '(',\n",
              " ')',\n",
              " '+',\n",
              " ',',\n",
              " '-',\n",
              " '.',\n",
              " '/',\n",
              " ':',\n",
              " ';',\n",
              " '<',\n",
              " '=',\n",
              " '>',\n",
              " '?',\n",
              " '[',\n",
              " '\\\\',\n",
              " ']',\n",
              " '^',\n",
              " '_',\n",
              " '`',\n",
              " '{',\n",
              " '|',\n",
              " '}',\n",
              " '~']"
            ]
          },
          "metadata": {
            "tags": []
          },
          "execution_count": 9
        }
      ]
    },
    {
      "cell_type": "code",
      "metadata": {
        "colab": {
          "base_uri": "https://localhost:8080/"
        },
        "id": "mNm_jzpIAz02",
        "outputId": "9536865c-67f5-4240-b486-82836e971be5"
      },
      "source": [
        "allowed_symbols_list = list((Counter(symbols_list)-Counter(na_symbols_list)).elements())\n",
        "print(allowed_symbols_list)"
      ],
      "execution_count": null,
      "outputs": [
        {
          "output_type": "stream",
          "text": [
            "['#', '$', '%', '&', '*', '@']\n"
          ],
          "name": "stdout"
        }
      ]
    },
    {
      "cell_type": "code",
      "metadata": {
        "colab": {
          "base_uri": "https://localhost:8080/"
        },
        "id": "uXP6pGC0M8bg",
        "outputId": "35c15120-74be-4e6e-ea31-71a8b8b8afb3"
      },
      "source": [
        "allowed_symbols = \"\"\n",
        "for i in allowed_symbols_list:\n",
        "  allowed_symbols = allowed_symbols+i\n",
        "\n",
        "print(allowed_symbols)"
      ],
      "execution_count": null,
      "outputs": [
        {
          "output_type": "stream",
          "text": [
            "#$%&*@\n"
          ],
          "name": "stdout"
        }
      ]
    },
    {
      "cell_type": "code",
      "metadata": {
        "id": "1Pq5M32X7boM"
      },
      "source": [
        "all = lower + upper + digits + allowed_symbols"
      ],
      "execution_count": null,
      "outputs": []
    },
    {
      "cell_type": "code",
      "metadata": {
        "colab": {
          "base_uri": "https://localhost:8080/"
        },
        "id": "z5r2Tq4_7hYa",
        "outputId": "ea5ed3a5-84d5-454a-8bdc-fd31e4beca9c"
      },
      "source": [
        "password = \"\".join(choice(all) for x in range(randint(8, 16)))\n",
        "print(password)"
      ],
      "execution_count": null,
      "outputs": [
        {
          "output_type": "stream",
          "text": [
            "XZKW2vCM9\n"
          ],
          "name": "stdout"
        }
      ]
    }
  ]
}